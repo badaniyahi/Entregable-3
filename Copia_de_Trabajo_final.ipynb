{
  "nbformat": 4,
  "nbformat_minor": 0,
  "metadata": {
    "colab": {
      "provenance": [],
      "toc_visible": true,
      "mount_file_id": "1bjBFtLUD88qBAsXRI73y0HeNXb0LWVX1",
      "authorship_tag": "ABX9TyOXDkPHEXRgILkwltHomiB4",
      "include_colab_link": true
    },
    "kernelspec": {
      "name": "python3",
      "display_name": "Python 3"
    },
    "language_info": {
      "name": "python"
    }
  },
  "cells": [
    {
      "cell_type": "markdown",
      "metadata": {
        "id": "view-in-github",
        "colab_type": "text"
      },
      "source": [
        "<a href=\"https://colab.research.google.com/github/badaniyahi/Entregable-3/blob/main/Copia_de_Trabajo_final.ipynb\" target=\"_parent\"><img src=\"https://colab.research.google.com/assets/colab-badge.svg\" alt=\"Open In Colab\"/></a>"
      ]
    },
    {
      "cell_type": "code",
      "source": [
        "pip install requests beautifulsoup4"
      ],
      "metadata": {
        "colab": {
          "base_uri": "https://localhost:8080/"
        },
        "id": "HknmVaKpyDfc",
        "outputId": "f474dda8-60c3-4f74-c339-bbbba2c95a09"
      },
      "execution_count": null,
      "outputs": [
        {
          "output_type": "stream",
          "name": "stdout",
          "text": [
            "Requirement already satisfied: requests in /usr/local/lib/python3.10/dist-packages (2.32.3)\n",
            "Requirement already satisfied: beautifulsoup4 in /usr/local/lib/python3.10/dist-packages (4.12.3)\n",
            "Requirement already satisfied: charset-normalizer<4,>=2 in /usr/local/lib/python3.10/dist-packages (from requests) (3.3.2)\n",
            "Requirement already satisfied: idna<4,>=2.5 in /usr/local/lib/python3.10/dist-packages (from requests) (3.7)\n",
            "Requirement already satisfied: urllib3<3,>=1.21.1 in /usr/local/lib/python3.10/dist-packages (from requests) (2.0.7)\n",
            "Requirement already satisfied: certifi>=2017.4.17 in /usr/local/lib/python3.10/dist-packages (from requests) (2024.7.4)\n",
            "Requirement already satisfied: soupsieve>1.2 in /usr/local/lib/python3.10/dist-packages (from beautifulsoup4) (2.6)\n"
          ]
        }
      ]
    },
    {
      "cell_type": "code",
      "source": [
        "import requests\n",
        "from bs4 import BeautifulSoup\n",
        "import sqlite3"
      ],
      "metadata": {
        "id": "aSZR-hIVyIJp"
      },
      "execution_count": null,
      "outputs": []
    },
    {
      "cell_type": "markdown",
      "source": [
        "# Función para crear la base de datos y la tabla"
      ],
      "metadata": {
        "id": "UtEOj1dlyNvT"
      }
    },
    {
      "cell_type": "code",
      "source": [
        "def create_database():\n",
        "    conn = sqlite3.connect('articles.db')\n",
        "    c = conn.cursor()\n",
        "    c.execute('''\n",
        "        CREATE TABLE IF NOT EXISTS Articles (\n",
        "            ArticleID INTEGER PRIMARY KEY AUTOINCREMENT,\n",
        "            Title TEXT,\n",
        "            PublicationDate TEXT,\n",
        "            Author TEXT,\n",
        "            Category TEXT,\n",
        "            Summary TEXT,\n",
        "            FullText TEXT,\n",
        "            Keywords TEXT,\n",
        "            RelatedLinks TEXT\n",
        "        )\n",
        "    ''')\n",
        "    conn.commit()\n",
        "    conn.close()"
      ],
      "metadata": {
        "id": "hdXVBUA_yKik"
      },
      "execution_count": null,
      "outputs": []
    },
    {
      "cell_type": "markdown",
      "source": [
        "# Función para extraer datos de la página web"
      ],
      "metadata": {
        "id": "wpd4N7W5yZmx"
      }
    },
    {
      "cell_type": "code",
      "source": [
        "def scrape_data(url):\n",
        "    response = requests.get(url)\n",
        "    soup = BeautifulSoup(response.content, 'html.parser')\n",
        "\n",
        "    articles = []\n",
        "    # Ajusta los selectores según el HTML de la página web\n",
        "    for item in soup.select('article'):  # Cambia 'article' por el selector correcto\n",
        "        title = item.select_one('.article-title').get_text(strip=True)\n",
        "        publication_date = item.select_one('.date').get_text(strip=True)\n",
        "        author = item.select_one('.author').get_text(strip=True)\n",
        "        category = item.select_one('.category').get_text(strip=True)\n",
        "        summary = item.select_one('.summary').get_text(strip=True)\n",
        "        full_text = item.select_one('.full-text').get_text(strip=True)\n",
        "        keywords = ', '.join(k.get_text(strip=True) for k in item.select('.keywords span'))\n",
        "        related_links = ', '.join(link['href'] for link in item.select('.related-links a'))\n",
        "\n",
        "        articles.append((title, publication_date, author, category, summary, full_text, keywords, related_links))\n",
        "\n",
        "    return articles"
      ],
      "metadata": {
        "id": "5u_pA9pVydS1"
      },
      "execution_count": null,
      "outputs": []
    },
    {
      "cell_type": "markdown",
      "source": [
        "# Función para insertar datos en la base de datos"
      ],
      "metadata": {
        "id": "WJ5d0I8PykJa"
      }
    },
    {
      "cell_type": "code",
      "source": [
        "def insert_data(articles):\n",
        "    conn = sqlite3.connect('articles.db')\n",
        "    c = conn.cursor()\n",
        "    c.executemany('''\n",
        "        INSERT INTO Articles (Title, PublicationDate, Author, Category, Summary, FullText, Keywords, RelatedLinks)\n",
        "        VALUES (?, ?, ?, ?, ?, ?, ?, ?)\n",
        "    ''', articles)\n",
        "    conn.commit()\n",
        "    conn.close()"
      ],
      "metadata": {
        "id": "FrkQOMGvyoAi"
      },
      "execution_count": null,
      "outputs": []
    },
    {
      "cell_type": "markdown",
      "source": [
        "# Función principal"
      ],
      "metadata": {
        "id": "LtPDB5P_yuaq"
      }
    },
    {
      "cell_type": "code",
      "source": [
        "def main():\n",
        "    url = 'https://www.digitalrefining.com/articles?categoryId=25'  # Cambia esta URL por la de la página que deseas extraer\n",
        "    create_database()\n",
        "    articles = scrape_data(url)\n",
        "    insert_data(articles)\n",
        "    print(\"Datos extraídos e insertados en la base de datos.\")\n",
        "\n",
        "if __name__ == '__main__':\n",
        "    main()"
      ],
      "metadata": {
        "colab": {
          "base_uri": "https://localhost:8080/"
        },
        "id": "UbfqlsYvyvoT",
        "outputId": "397aeb11-5a37-41f2-ab29-0362e9135a4e"
      },
      "execution_count": null,
      "outputs": [
        {
          "output_type": "stream",
          "name": "stdout",
          "text": [
            "Datos extraídos e insertados en la base de datos.\n"
          ]
        }
      ]
    },
    {
      "cell_type": "markdown",
      "source": [
        " # Conversión de extensión db a csv"
      ],
      "metadata": {
        "id": "VRPMFY7p1WoB"
      }
    },
    {
      "cell_type": "code",
      "source": [
        "import sqlite3\n",
        "import csv"
      ],
      "metadata": {
        "id": "PxReTxbC1A9T"
      },
      "execution_count": null,
      "outputs": []
    },
    {
      "cell_type": "code",
      "source": [
        "def export_db_to_csv(db_filename, csv_filename):\n",
        "    # Conectar a la base de datos SQLite\n",
        "    conn = sqlite3.connect(db_filename)\n",
        "    cursor = conn.cursor()\n",
        "\n",
        "    # Ejecutar una consulta para seleccionar todos los datos de la tabla\n",
        "    cursor.execute(\"SELECT * FROM Articles\")\n",
        "\n",
        "    # Obtener los nombres de las columnas\n",
        "    column_names = [description[0] for description in cursor.description]\n",
        "\n",
        "    # Obtener los datos de la consulta\n",
        "    rows = cursor.fetchall()\n",
        "\n",
        "    # Escribir los datos en un archivo CSV\n",
        "    with open(csv_filename, 'w', newline='', encoding='utf-8') as csvfile:\n",
        "        csvwriter = csv.writer(csvfile)\n",
        "\n",
        "        # Escribir los nombres de las columnas\n",
        "        csvwriter.writerow(column_names)\n",
        "\n",
        "        # Escribir las filas de datos\n",
        "        csvwriter.writerows(rows)\n",
        "\n",
        "    # Cerrar la conexión a la base de datos\n",
        "    conn.close()\n",
        "    print(f\"Datos exportados a {csv_filename}\")\n"
      ],
      "metadata": {
        "id": "aS1XrAaw1eTG"
      },
      "execution_count": null,
      "outputs": []
    },
    {
      "cell_type": "markdown",
      "source": [
        "# Usar la función"
      ],
      "metadata": {
        "id": "iZ-YZaZw2ZAR"
      }
    },
    {
      "cell_type": "code",
      "source": [
        "db_filename = 'articles.db'  # Nombre del archivo de base de datos\n",
        "csv_filename = 'articles.csv'  # Nombre del archivo CSV de salida"
      ],
      "metadata": {
        "id": "tVx5vrXB2YXJ"
      },
      "execution_count": null,
      "outputs": []
    },
    {
      "cell_type": "code",
      "source": [
        "export_db_to_csv(db_filename, csv_filename)"
      ],
      "metadata": {
        "colab": {
          "base_uri": "https://localhost:8080/"
        },
        "id": "lzXa03FH2ev8",
        "outputId": "12376903-90ef-43bc-9248-bd1bba0c89ac"
      },
      "execution_count": null,
      "outputs": [
        {
          "output_type": "stream",
          "name": "stdout",
          "text": [
            "Datos exportados a articles.csv\n"
          ]
        }
      ]
    }
  ]
}