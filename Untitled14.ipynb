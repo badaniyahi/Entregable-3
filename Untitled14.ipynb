{
  "nbformat": 4,
  "nbformat_minor": 0,
  "metadata": {
    "colab": {
      "provenance": [],
      "gpuType": "T4",
      "authorship_tag": "ABX9TyNjo06maAMMKeo3o11VarEn",
      "include_colab_link": true
    },
    "kernelspec": {
      "name": "python3",
      "display_name": "Python 3"
    },
    "language_info": {
      "name": "python"
    },
    "accelerator": "GPU"
  },
  "cells": [
    {
      "cell_type": "markdown",
      "metadata": {
        "id": "view-in-github",
        "colab_type": "text"
      },
      "source": [
        "<a href=\"https://colab.research.google.com/github/badaniyahi/Entregable-3/blob/main/Untitled14.ipynb\" target=\"_parent\"><img src=\"https://colab.research.google.com/assets/colab-badge.svg\" alt=\"Open In Colab\"/></a>"
      ]
    },
    {
      "cell_type": "code",
      "execution_count": 5,
      "metadata": {
        "colab": {
          "base_uri": "https://localhost:8080/"
        },
        "collapsed": true,
        "id": "zRQikQkxL5iA",
        "outputId": "efd5839a-3497-446c-c06a-4eb893e95f47"
      },
      "outputs": [
        {
          "output_type": "stream",
          "name": "stdout",
          "text": [
            "Requirement already satisfied: pypdf2 in /usr/local/lib/python3.10/dist-packages (3.0.1)\n"
          ]
        }
      ],
      "source": [
        "!pip install pypdf2 # Install PyPDF2 library, version 2.12.1\n",
        "import PyPDF2\n",
        "import requests\n",
        "import io"
      ]
    },
    {
      "cell_type": "code",
      "source": [
        "# Download the PDF file from the URL\n",
        "url = 'https://osinergmin-my.sharepoint.com/:b:/g/personal/ptaboada_osinergmin_gob_pe/ESkQfhmLFANAj67QdlUbbRMBFmr18IJws4RsQar9oNaAfQ?e=FheZAR'  # Updated URL for direct download\n"
      ],
      "metadata": {
        "id": "4GD9jcZ0Q96C"
      },
      "execution_count": 11,
      "outputs": []
    },
    {
      "cell_type": "code",
      "source": [
        "# Instead of only using the URL, modify it to trigger a direct download:\n",
        "download_url = \"https://osinergmin-my.sharepoint.com/:b:/g/personal/ptaboada_osinergmin_gob_pe/ESkQfhmLFANAj67QdlUbbRMBFmr18IJws4RsQar9oNaAfQ?e=WFMYnT\"\n",
        "import requests\n",
        "\n",
        "response = requests.get(download_url, stream=True) # Use the modified URL for download\n",
        "# Check if the request was successful (status code 200)\n",
        "if response.status_code != 200:\n",
        "    raise ValueError(f\"Failed to download PDF. Status code: {response.status_code}\")\n",
        "\n",
        "# Check if the content type is PDF (may not be necessary after forcing download)\n",
        "content_type = response.headers.get('Content-Type')\n",
        "if 'pdf' not in content_type.lower():\n",
        "    print(f\"Warning: Unexpected content type: {content_type}. Attempting to proceed as PDF.\") # Changed to warning\n"
      ],
      "metadata": {
        "colab": {
          "base_uri": "https://localhost:8080/"
        },
        "id": "LW-5QWlVRJg1",
        "outputId": "f96f2963-b94b-40a1-80d3-ce139d8c5041"
      },
      "execution_count": 7,
      "outputs": [
        {
          "output_type": "stream",
          "name": "stdout",
          "text": [
            "Warning: Unexpected content type: text/html; charset=utf-8. Attempting to proceed as PDF.\n"
          ]
        }
      ]
    },
    {
      "cell_type": "code",
      "source": [
        "# Create a file-like object using BytesIO\n",
        "pdf_file = io.BytesIO(response.content) # Use response.content directly"
      ],
      "metadata": {
        "id": "RGNPfoOwROul"
      },
      "execution_count": 14,
      "outputs": []
    },
    {
      "cell_type": "code",
      "source": [
        "# Save the downloaded content to a file\n",
        "with open(\"downloaded.pdf\", \"wb\") as f:\n",
        "    f.write(response.content)"
      ],
      "metadata": {
        "id": "Mh7LSTPhSkFk"
      },
      "execution_count": 16,
      "outputs": []
    },
    {
      "cell_type": "code",
      "source": [
        "# Create a PDF reader object\n",
        "pdf_reader = PyPDF2.PdfReader(pdf_file)"
      ],
      "metadata": {
        "id": "NJLYgEaMRSXn"
      },
      "execution_count": 17,
      "outputs": []
    },
    {
      "cell_type": "code",
      "source": [
        "# Get the number of pages in the PDF\n",
        "num_pages = len(pdf_reader.pages)"
      ],
      "metadata": {
        "id": "Kp0H2MB3ReJh"
      },
      "execution_count": 18,
      "outputs": []
    },
    {
      "cell_type": "code",
      "source": [
        "# Iterate through each page and extract text\n",
        "for page_num in range(num_pages):\n",
        "    page = pdf_reader.pages[page_num]\n",
        "    page_text = page.extract_text()"
      ],
      "metadata": {
        "id": "KKcFGpfBRmxY"
      },
      "execution_count": 19,
      "outputs": []
    },
    {
      "cell_type": "code",
      "source": [
        "!pip install bitsandbytes"
      ],
      "metadata": {
        "colab": {
          "base_uri": "https://localhost:8080/"
        },
        "id": "EFEiTFZYMCU7",
        "outputId": "4000874d-87d0-4bee-d5e5-11934d7c0cb7"
      },
      "execution_count": 1,
      "outputs": [
        {
          "output_type": "stream",
          "name": "stdout",
          "text": [
            "Collecting bitsandbytes\n",
            "  Downloading bitsandbytes-0.44.1-py3-none-manylinux_2_24_x86_64.whl.metadata (3.5 kB)\n",
            "Requirement already satisfied: torch in /usr/local/lib/python3.10/dist-packages (from bitsandbytes) (2.5.0+cu121)\n",
            "Requirement already satisfied: numpy in /usr/local/lib/python3.10/dist-packages (from bitsandbytes) (1.26.4)\n",
            "Requirement already satisfied: filelock in /usr/local/lib/python3.10/dist-packages (from torch->bitsandbytes) (3.16.1)\n",
            "Requirement already satisfied: typing-extensions>=4.8.0 in /usr/local/lib/python3.10/dist-packages (from torch->bitsandbytes) (4.12.2)\n",
            "Requirement already satisfied: networkx in /usr/local/lib/python3.10/dist-packages (from torch->bitsandbytes) (3.4.2)\n",
            "Requirement already satisfied: jinja2 in /usr/local/lib/python3.10/dist-packages (from torch->bitsandbytes) (3.1.4)\n",
            "Requirement already satisfied: fsspec in /usr/local/lib/python3.10/dist-packages (from torch->bitsandbytes) (2024.10.0)\n",
            "Requirement already satisfied: sympy==1.13.1 in /usr/local/lib/python3.10/dist-packages (from torch->bitsandbytes) (1.13.1)\n",
            "Requirement already satisfied: mpmath<1.4,>=1.1.0 in /usr/local/lib/python3.10/dist-packages (from sympy==1.13.1->torch->bitsandbytes) (1.3.0)\n",
            "Requirement already satisfied: MarkupSafe>=2.0 in /usr/local/lib/python3.10/dist-packages (from jinja2->torch->bitsandbytes) (3.0.2)\n",
            "Downloading bitsandbytes-0.44.1-py3-none-manylinux_2_24_x86_64.whl (122.4 MB)\n",
            "\u001b[2K   \u001b[90m━━━━━━━━━━━━━━━━━━━━━━━━━━━━━━━━━━━━━━━━\u001b[0m \u001b[32m122.4/122.4 MB\u001b[0m \u001b[31m8.1 MB/s\u001b[0m eta \u001b[36m0:00:00\u001b[0m\n",
            "\u001b[?25hInstalling collected packages: bitsandbytes\n",
            "Successfully installed bitsandbytes-0.44.1\n"
          ]
        }
      ]
    },
    {
      "cell_type": "code",
      "source": [
        "#@title Cargando LLAMA3\n",
        "import transformers\n",
        "import torch\n",
        "\n",
        "model_id = \"unsloth/llama-3-8b-Instruct-bnb-4bit\"\n",
        "\n",
        "pipeline = transformers.pipeline(\n",
        "    \"text-generation\",\n",
        "    model=model_id,\n",
        "    model_kwargs={\n",
        "        \"torch_dtype\": torch.float16,\n",
        "        \"quantization_config\": {\"load_in_4bit\": True},\n",
        "        \"low_cpu_mem_usage\": True,\n",
        "    },\n",
        ")"
      ],
      "metadata": {
        "colab": {
          "base_uri": "https://localhost:8080/"
        },
        "id": "kovk6CsRVIB8",
        "outputId": "c34f0832-8e03-4acd-c67d-a89bc98d1d86"
      },
      "execution_count": 3,
      "outputs": [
        {
          "output_type": "stream",
          "name": "stderr",
          "text": [
            "Unused kwargs: ['_load_in_4bit', '_load_in_8bit', 'quant_method']. These kwargs are not used in <class 'transformers.utils.quantization_config.BitsAndBytesConfig'>.\n"
          ]
        }
      ]
    },
    {
      "cell_type": "code",
      "source": [
        "import requests\n",
        "from bs4 import BeautifulSoup\n",
        "import pandas as pd"
      ],
      "metadata": {
        "id": "zWTjE1g2MkvC"
      },
      "execution_count": 4,
      "outputs": []
    },
    {
      "cell_type": "code",
      "source": [
        "#@title Pregunta 1\n",
        "messages = [\n",
        "    {\"role\"   : \"system\",\n",
        "     \"content\": download_url},\n",
        "    {\"role\"   : \"user\",\n",
        "     \"content\": \"\"\"¿Cuál es el requisito para realizar operaciones como Consumidor Directo de Combustibles Líquidos y OPDH?\"\"\"},\n",
        "]\n",
        "\n",
        "#What points stand out about data privacy?\n",
        "\n",
        "prompt = pipeline.tokenizer.apply_chat_template(\n",
        "        messages,\n",
        "        tokenize=False,\n",
        "        add_generation_prompt=True\n",
        ")\n",
        "\n",
        "terminators = [\n",
        "    pipeline.tokenizer.eos_token_id,\n",
        "    pipeline.tokenizer.convert_tokens_to_ids(\"<|eot_id|>\")\n",
        "]\n",
        "\n",
        "outputs = pipeline(\n",
        "    prompt,\n",
        "    max_new_tokens=256,\n",
        "    eos_token_id=terminators,\n",
        "    do_sample=True,\n",
        "    temperature=0.6,\n",
        "    top_p=0.9,\n",
        ")\n",
        "\n",
        "print(outputs[0][\"generated_text\"][len(prompt):])"
      ],
      "metadata": {
        "colab": {
          "base_uri": "https://localhost:8080/"
        },
        "id": "xXq9jB7_M5uQ",
        "outputId": "1cf278b1-21cc-45b8-a729-e76ab2e58de3"
      },
      "execution_count": 8,
      "outputs": [
        {
          "output_type": "stream",
          "name": "stdout",
          "text": [
            "Según la información proporcionada en el enlace que me compartiste, para realizar operaciones como Consumidor Directo de Combustibles Líquidos y Operador de Puertos de Combustibles Hidrocarburados (OPDH), se requiere cumplir con los siguientes requisitos:\n",
            "\n",
            "**Consumidor Directo de Combustibles Líquidos (CDC):**\n",
            "\n",
            "1. Ser una persona natural o jurídica que desee consumir combustibles líquidos para uso propio o para venta a terceros.\n",
            "2. Tener un registro en el Registro de Consumidores Directos de Combustibles Líquidos (RCDC) de la Dirección General de Combustibles Líquidos (DGL) del Ministerio de Energía y Minas (MINEM).\n",
            "3. Cumplir con las normas y regulaciones establecidas en el Decreto Supremo N° 021-2018-MEM y sus modificatorias.\n",
            "4. Presentar la documentación requerida por la DGL, incluyendo la solicitud de registro, la certificación de la capacidad de almacenamiento y la garantía de pago.\n",
            "\n",
            "**Operador de Puertos de Combustibles Hidrocarbur\n"
          ]
        }
      ]
    },
    {
      "cell_type": "code",
      "source": [
        "#@title Pregunta 2\n",
        "\n",
        "messages = [\n",
        "    {\"role\": \"system\",\n",
        "     \"content\": download_url},\n",
        "    {\"role\": \"user\",\n",
        "     \"content\": \"\"\"¿Cuándo se realiza una suspensión de oficio?\"\"\"},\n",
        "]\n",
        "\n",
        "prompt = pipeline.tokenizer.apply_chat_template(\n",
        "        messages,\n",
        "        tokenize=False,\n",
        "        add_generation_prompt=True\n",
        ")\n",
        "\n",
        "terminators = [\n",
        "    pipeline.tokenizer.eos_token_id,\n",
        "    pipeline.tokenizer.convert_tokens_to_ids(\"<|eot_id|>\")\n",
        "]\n",
        "\n",
        "outputs = pipeline(\n",
        "    prompt,\n",
        "    max_new_tokens=256,\n",
        "    eos_token_id=terminators,\n",
        "    do_sample=True,\n",
        "    temperature=0.6,\n",
        "    top_p=0.9,\n",
        ")\n",
        "print(outputs[0][\"generated_text\"][len(prompt):])"
      ],
      "metadata": {
        "colab": {
          "base_uri": "https://localhost:8080/"
        },
        "id": "8Gwlvh5JM7io",
        "outputId": "8bbe46ab-2fee-4425-bb06-c6b46222ca19"
      },
      "execution_count": 10,
      "outputs": [
        {
          "output_type": "stream",
          "name": "stdout",
          "text": [
            "Según el Decreto Supremo N° 014-2017-PCM, que regula la suspensión de oficio, una suspensión de oficio se puede realizar en los siguientes casos:\n",
            "\n",
            "1. Inexistencia del derecho de petición: Si el solicitante no tiene el derecho de petición, es decir, si no cumple con los requisitos establecidos en la ley para presentar una petición.\n",
            "2. Falta de legitimación: Si el solicitante no tiene legitimación para presentar la petición, es decir, si no tiene un interés directo y legítimo en el resultado del proceso.\n",
            "3. Requisitos no cumplidos: Si el solicitante no cumple con los requisitos establecidos en la ley para presentar la petición, como por ejemplo, no presentar los documentos necesarios o no cumplir con el plazo establecido.\n",
            "4. Falta de pago de derechos o tributos: Si el solicitante no ha pagado los derechos o tributos que correspondan al proceso.\n",
            "5. Incongruencia en la petición: Si la petición es incongruente con la realidad, es decir, si no se ajusta a los he\n"
          ]
        }
      ]
    },
    {
      "cell_type": "code",
      "source": [
        "#@title Pregunta 3\n",
        "messages = [\n",
        "    {\"role\"   : \"system\",\n",
        "     \"content\": download_url},\n",
        "    {\"role\"   : \"user\",\n",
        "     \"content\": \"\"\"¿Cuál es el plazo de atención de una solicitud de inscripción en el Registro de Hidrocarburos?\"\"\"},\n",
        "]\n",
        "\n",
        "prompt = pipeline.tokenizer.apply_chat_template(\n",
        "        messages,\n",
        "        tokenize=False,\n",
        "        add_generation_prompt=True\n",
        ")\n",
        "\n",
        "terminators = [\n",
        "    pipeline.tokenizer.eos_token_id,\n",
        "    pipeline.tokenizer.convert_tokens_to_ids(\"<|eot_id|>\")\n",
        "]\n",
        "\n",
        "outputs = pipeline(\n",
        "    prompt,\n",
        "    max_new_tokens=128,\n",
        "    eos_token_id=terminators,\n",
        "    do_sample=True,\n",
        "    temperature=0.6,\n",
        "    top_p=0.9,\n",
        ")\n",
        "\n",
        "print(outputs[0][\"generated_text\"][len(prompt):])"
      ],
      "metadata": {
        "colab": {
          "base_uri": "https://localhost:8080/"
        },
        "id": "UfTx8vNJYOJc",
        "outputId": "2596ad33-20ec-4632-f8bd-1e63ce138ffe"
      },
      "execution_count": 11,
      "outputs": [
        {
          "output_type": "stream",
          "name": "stdout",
          "text": [
            "Según la información disponible en el enlace proporcionado, el plazo de atención de una solicitud de inscripción en el Registro de Hidrocarburos es de 30 días hábiles contados a partir de la fecha de recepción de la solicitud.\n",
            "\n",
            "Es importante mencionar que este plazo puede variar según la normativa vigente y la información proporcionada puede ser sujeta a cambios. Es recomendable verificar la información con la autoridad competente o el sitio web oficial para obtener información actualizada y precisa.\n"
          ]
        }
      ]
    }
  ]
}